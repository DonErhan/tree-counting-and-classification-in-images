{
 "cells": [
  {
   "cell_type": "markdown",
   "id": "1e63aba1",
   "metadata": {},
   "source": [
    "?Source https://docs.neptune.ai/how-to-guides/experiment-tracking/organize-ml-experiments  \n",
    "Down the page there is a link to Colab"
   ]
  },
  {
   "cell_type": "code",
   "execution_count": null,
   "id": "fa4b6849",
   "metadata": {},
   "outputs": [],
   "source": [
    "# ! pip install neptune-client"
   ]
  },
  {
   "cell_type": "code",
   "execution_count": null,
   "id": "6d236fa4",
   "metadata": {},
   "outputs": [],
   "source": [
    "import sys\n",
    "import os\n",
    "\n",
    "sys.path.append(os.path.abspath('../src'))\n",
    "\n",
    "from data.neptune_ai.neptune_wrapper import NeptuneWrapper, run\n"
   ]
  },
  {
   "cell_type": "markdown",
   "id": "65361e83",
   "metadata": {},
   "source": [
    "# Data up & down"
   ]
  },
  {
   "cell_type": "code",
   "execution_count": null,
   "id": "c265688e",
   "metadata": {},
   "outputs": [],
   "source": [
    "PROJ_NAME = \"octavf/tree-counting-and-classif\"\n",
    "API_TOKEN = \"\" # ask for it\n",
    "\n"
   ]
  },
  {
   "cell_type": "markdown",
   "id": "eced1845",
   "metadata": {},
   "source": [
    "## Data up"
   ]
  },
  {
   "cell_type": "code",
   "execution_count": null,
   "id": "5d2ebc34",
   "metadata": {},
   "outputs": [],
   "source": [
    "run(PROJ_NAME,\n",
    "    API_TOKEN,\n",
    "    upload_ds=True, download_ds=False,\n",
    "    from_path=\"/work/training/training_1/\",\n",
    "    to_path=\"dataset/PlaiulRotated30v0.1.2\")\n"
   ]
  },
  {
   "cell_type": "markdown",
   "id": "16c6f4a1",
   "metadata": {},
   "source": [
    "## Data down"
   ]
  },
  {
   "cell_type": "code",
   "execution_count": null,
   "id": "0a494122",
   "metadata": {},
   "outputs": [],
   "source": [
    "run(PROJ_NAME,\n",
    "    API_TOKEN,\n",
    "    upload_ds=False, download_ds=True,\n",
    "    to_path=\"./dataset/latest\")\n"
   ]
  }
 ],
 "metadata": {
  "kernelspec": {
   "display_name": "Python 3 (ipykernel)",
   "language": "python",
   "name": "python3"
  },
  "language_info": {
   "codemirror_mode": {
    "name": "ipython",
    "version": 3
   },
   "file_extension": ".py",
   "mimetype": "text/x-python",
   "name": "python",
   "nbconvert_exporter": "python",
   "pygments_lexer": "ipython3",
   "version": "3.8.12"
  }
 },
 "nbformat": 4,
 "nbformat_minor": 5
}

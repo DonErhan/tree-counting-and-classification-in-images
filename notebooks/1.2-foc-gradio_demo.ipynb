{
 "cells": [
  {
   "cell_type": "code",
   "execution_count": null,
   "id": "e6070fa0",
   "metadata": {},
   "outputs": [],
   "source": [
    "# ! pip install gradio"
   ]
  },
  {
   "cell_type": "code",
   "execution_count": null,
   "id": "8fc7d816",
   "metadata": {},
   "outputs": [],
   "source": [
    "import numpy as np\n",
    "import gradio as gr\n",
    "\n",
    "import sys\n",
    "import os\n",
    "sys.path.append(os.path.abspath('../src/'))\n",
    "from models.predict_large_image import predict_large_image\n",
    "from models.predict_model import get_model\n",
    "\n",
    "predictor = get_model(model_path='/work/training/plaiul/deepforest_iter2',\n",
    "                      available_gpus=0)\n",
    "\n",
    "def demo(input_img):\n",
    "    out_img = predict_large_image(\n",
    "        numpy_image=input_img, model=predictor,\n",
    "        patch_size=400, patch_overlap=0.1, iou_threshold=0.25, should_display=True # enable-disable debug-view\n",
    "    )\n",
    "    return out_img"
   ]
  },
  {
   "cell_type": "code",
   "execution_count": null,
   "id": "7f9c8ec8",
   "metadata": {},
   "outputs": [],
   "source": [
    "demo = gr.Interface(demo, gr.Image(), \"image\")\n",
    "\n",
    "demo.launch(share=True)"
   ]
  },
  {
   "cell_type": "code",
   "execution_count": null,
   "id": "7a78cbe9",
   "metadata": {},
   "outputs": [],
   "source": []
  }
 ],
 "metadata": {
  "kernelspec": {
   "display_name": "Python 3 (ipykernel)",
   "language": "python",
   "name": "python3"
  },
  "language_info": {
   "codemirror_mode": {
    "name": "ipython",
    "version": 3
   },
   "file_extension": ".py",
   "mimetype": "text/x-python",
   "name": "python",
   "nbconvert_exporter": "python",
   "pygments_lexer": "ipython3",
   "version": "3.8.12"
  }
 },
 "nbformat": 4,
 "nbformat_minor": 5
}
